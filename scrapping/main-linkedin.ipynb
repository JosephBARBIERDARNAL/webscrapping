{
 "cells": [
  {
   "cell_type": "code",
   "execution_count": 1,
   "metadata": {
    "tags": []
   },
   "outputs": [],
   "source": [
    "from src_linkedin import LinkedIn\n",
    "\n",
    "# selenium\n",
    "from selenium import webdriver\n",
    "from selenium.webdriver.common.by import By\n",
    "from selenium.webdriver.common.keys import Keys\n",
    "from selenium.webdriver.support.wait import WebDriverWait\n",
    "from selenium.webdriver.support import expected_conditions as EC\n",
    "\n",
    "# other\n",
    "import pandas as pd\n",
    "import time\n",
    "import os\n",
    "\n",
    "# credentials\n",
    "email = 'joseph.barbierdarnal@gmail.com'\n",
    "with open('../credentials.txt', 'r') as file:\n",
    "    password = file.read()"
   ]
  },
  {
   "cell_type": "code",
   "execution_count": 2,
   "metadata": {
    "tags": []
   },
   "outputs": [],
   "source": [
    "scraper = LinkedIn()\n",
    "scraper.load_page(\"https://www.linkedin.com/\")\n",
    "scraper.sleep(5)\n",
    "scraper.accept_cookies()\n",
    "scraper.login(email, password)"
   ]
  },
  {
   "cell_type": "markdown",
   "metadata": {},
   "source": [
    "### some captcha can occurs here sometimes ):"
   ]
  },
  {
   "cell_type": "code",
   "execution_count": 3,
   "metadata": {
    "tags": []
   },
   "outputs": [],
   "source": [
    "scraper.load_page(\"https://www.linkedin.com/jobs/collections/recommended/\")\n",
    "scraper.close_message()"
   ]
  },
  {
   "cell_type": "code",
   "execution_count": 4,
   "metadata": {
    "tags": []
   },
   "outputs": [
    {
     "name": "stdout",
     "output_type": "stream",
     "text": [
      "Scrapping over: 282 jobs found.\n",
      "Scrapping over: 347 jobs found.\n",
      "Scrapping over: 252 jobs found.\n",
      "Scrapping over: 389 jobs found.\n"
     ]
    }
   ],
   "source": [
    "us_jobs = scraper.get_all_jobs(location='United States')\n",
    "southasia_jobs = scraper.get_all_jobs(location='South Asia')\n",
    "eastasia_jobs = scraper.get_all_jobs(location='East Asia')\n",
    "europe_jobs = scraper.get_all_jobs(location='European Economic Area')"
   ]
  },
  {
   "cell_type": "code",
   "execution_count": 5,
   "metadata": {},
   "outputs": [],
   "source": [
    "# concat all job dataframes\n",
    "linkedin_jobs = pd.concat([us_jobs, southasia_jobs, eastasia_jobs, europe_jobs])\n",
    "linkedin_jobs['website'] = 'LinkedIn'\n",
    "linkedin_jobs.to_csv('../data/linkedin.csv', index=False)"
   ]
  }
 ],
 "metadata": {
  "kernelspec": {
   "display_name": "Python 3 (ipykernel)",
   "language": "python",
   "name": "python3"
  },
  "language_info": {
   "codemirror_mode": {
    "name": "ipython",
    "version": 3
   },
   "file_extension": ".py",
   "mimetype": "text/x-python",
   "name": "python",
   "nbconvert_exporter": "python",
   "pygments_lexer": "ipython3",
   "version": "3.9.13"
  }
 },
 "nbformat": 4,
 "nbformat_minor": 4
}
