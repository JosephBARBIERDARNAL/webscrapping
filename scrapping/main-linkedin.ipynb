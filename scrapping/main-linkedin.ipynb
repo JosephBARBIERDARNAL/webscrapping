{
 "cells": [
  {
   "cell_type": "code",
   "execution_count": 1,
   "metadata": {
    "tags": []
   },
   "outputs": [],
   "source": [
    "# selenium\n",
    "from selenium import webdriver\n",
    "from selenium.webdriver.common.by import By\n",
    "from selenium.webdriver.common.keys import Keys\n",
    "from selenium.webdriver.support.wait import WebDriverWait\n",
    "from selenium.webdriver.support import expected_conditions as EC\n",
    "\n",
    "# other\n",
    "import pandas as pd\n",
    "import time\n",
    "sec_sleep = 0.5"
   ]
  },
  {
   "cell_type": "code",
   "execution_count": 2,
   "metadata": {
    "tags": []
   },
   "outputs": [],
   "source": [
    "# credentials\n",
    "email = 'joseph.barbierdarnal@gmail.com'\n",
    "with open('../credentials.txt', 'r') as file:\n",
    "    password = file.read()"
   ]
  },
  {
   "cell_type": "code",
   "execution_count": 3,
   "metadata": {
    "tags": []
   },
   "outputs": [],
   "source": [
    "def scroll_to_bottom(sec_sleep=sec_sleep):\n",
    "    time.sleep(sec_sleep*10)\n",
    "    WebDriverWait(driver, 10).until(EC.presence_of_element_located((By.CSS_SELECTOR, \".jobs-search-results-list\")))\n",
    "    div_element = driver.find_element(By.CSS_SELECTOR, \".jobs-search-results-list\")\n",
    "    driver.execute_script(\"arguments[0].scrollIntoView(true);\", div_element)\n",
    "    driver.execute_script(\"arguments[0].scrollTop = arguments[0].scrollHeight;\", div_element)"
   ]
  },
  {
   "cell_type": "code",
   "execution_count": 5,
   "metadata": {
    "tags": []
   },
   "outputs": [],
   "source": [
    "try:\n",
    "    driver.quit()\n",
    "except:\n",
    "    pass\n",
    "driver = webdriver.Firefox()\n",
    "driver.get(\"https://www.linkedin.com\")\n",
    "time.sleep(sec_sleep)\n",
    "\n",
    "# accept cookies\n",
    "cookies_xpath = '//*[@id=\"artdeco-global-alert-container\"]/div/section/div/div[2]/button[1]'\n",
    "cookies_button = driver.find_element(By.XPATH, cookies_xpath)\n",
    "cookies_button.click()\n",
    "time.sleep(sec_sleep)\n",
    "\n",
    "# enter mail\n",
    "login_name_xpath = '//*[@id=\"session_key\"]'\n",
    "email_field = driver.find_element(By.XPATH, login_name_xpath)\n",
    "email_field.send_keys(email)\n",
    "time.sleep(sec_sleep)\n",
    "\n",
    "# enter password\n",
    "login_password_xpath = '//*[@id=\"session_password\"]'\n",
    "password_field = driver.find_element(By.XPATH, login_password_xpath)\n",
    "password_field.send_keys(password)\n",
    "time.sleep(sec_sleep)\n",
    "\n",
    "# click on sign in\n",
    "signin_button_xpath = '//*[@id=\"main-content\"]/section[1]/div/div/form/div[2]/button'\n",
    "button_signin = driver.find_element(By.XPATH, signin_button_xpath)\n",
    "button_signin.click()\n",
    "time.sleep(sec_sleep)\n",
    "\n",
    "# open jobs section\n",
    "driver.get(\"https://www.linkedin.com/jobs\")\n",
    "time.sleep(sec_sleep)\n",
    "\n",
    "# enter keyword \"data\" and press \"enter\"\n",
    "input_keyword_xpath = '//*[@id=\"jobs-search-box-keyword-id-ember23\"]'\n",
    "keyword = 'data'\n",
    "search_field = driver.find_element(By.XPATH, input_keyword_xpath)\n",
    "search_field.send_keys(keyword)\n",
    "search_field.send_keys(Keys.ENTER)\n",
    "time.sleep(sec_sleep)\n",
    "\n",
    "# close message section\n",
    "message_xpath = '//*[@id=\"ember76\"]'\n",
    "message_close = driver.find_element(By.XPATH, message_xpath)\n",
    "message_close.click()\n",
    "time.sleep(sec_sleep)\n",
    "\n",
    "# scroll down in order to ensure all jobs are displayed\n",
    "scroll_to_bottom()"
   ]
  },
  {
   "cell_type": "code",
   "execution_count": 6,
   "metadata": {
    "tags": []
   },
   "outputs": [],
   "source": [
    "def get_job_details(driver):\n",
    "    # Find all job card elements\n",
    "    job_cards = driver.find_elements(By.CLASS_NAME, 'job-card-container')\n",
    "\n",
    "    # Initialize lists to store job details\n",
    "    job_ids = []\n",
    "    job_titles = []\n",
    "    companies = []\n",
    "    locations = []\n",
    "\n",
    "    # Iterate over job card elements to extract details\n",
    "    for card in job_cards:\n",
    "        job_id = card.get_attribute('data-job-id')\n",
    "        title_element = card.find_element(By.CSS_SELECTOR, '.job-card-container__link.job-card-list__title')\n",
    "        company_element = card.find_element(By.CSS_SELECTOR, '.job-card-container__primary-description')\n",
    "        location_element = card.find_element(By.CSS_SELECTOR, '.job-card-container__metadata-wrapper li')\n",
    "\n",
    "        if job_id:\n",
    "            job_ids.append(job_id)\n",
    "            job_titles.append(title_element.text if title_element else 'N/A')\n",
    "            companies.append(company_element.text if company_element else 'N/A')\n",
    "            locations.append(location_element.text if location_element else 'N/A')\n",
    "\n",
    "    # Create a DataFrame\n",
    "    job_data = pd.DataFrame({\n",
    "        'Job ID': job_ids,\n",
    "        'Title': job_titles,\n",
    "        'Company': companies,\n",
    "        'Location': locations\n",
    "    })\n",
    "\n",
    "    return job_data\n"
   ]
  },
  {
   "cell_type": "code",
   "execution_count": 7,
   "metadata": {
    "tags": []
   },
   "outputs": [],
   "source": [
    "job_df = get_job_details(driver)\n",
    "n_pages = 8\n",
    "for page in range(2,n_pages):\n",
    "    \n",
    "    # go to next page\n",
    "    next_page_xpath = f'//button[@aria-label=\"Page {page}\"]'\n",
    "    next_page_button = driver.find_element(By.XPATH, next_page_xpath)\n",
    "    next_page_button.click()\n",
    "    \n",
    "    # wait and scroll down\n",
    "    scroll_to_bottom()\n",
    "    \n",
    "    # get job infos and add them to the df with jobs\n",
    "    new_job_df = get_job_details(driver)\n",
    "    job_df = pd.concat([new_job_df, job_df])"
   ]
  },
  {
   "cell_type": "code",
   "execution_count": 11,
   "metadata": {
    "tags": []
   },
   "outputs": [],
   "source": [
    "job_df = job_df.reset_index(drop=True)\n"
   ]
  },
  {
   "cell_type": "code",
   "execution_count": null,
   "metadata": {},
   "outputs": [],
   "source": []
  }
 ],
 "metadata": {
  "kernelspec": {
   "display_name": "Python 3 (ipykernel)",
   "language": "python",
   "name": "python3"
  },
  "language_info": {
   "codemirror_mode": {
    "name": "ipython",
    "version": 3
   },
   "file_extension": ".py",
   "mimetype": "text/x-python",
   "name": "python",
   "nbconvert_exporter": "python",
   "pygments_lexer": "ipython3",
   "version": "3.9.13"
  }
 },
 "nbformat": 4,
 "nbformat_minor": 4
}
