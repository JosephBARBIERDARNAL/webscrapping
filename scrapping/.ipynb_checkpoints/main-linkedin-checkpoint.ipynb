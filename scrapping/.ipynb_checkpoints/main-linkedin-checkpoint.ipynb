{
 "cells": [
  {
   "cell_type": "code",
   "execution_count": 4,
   "metadata": {
    "tags": []
   },
   "outputs": [],
   "source": [
    "from linkedin import Scraper\n",
    "\n",
    "# selenium\n",
    "from selenium import webdriver\n",
    "from selenium.webdriver.common.by import By\n",
    "from selenium.webdriver.common.keys import Keys\n",
    "from selenium.webdriver.support.wait import WebDriverWait\n",
    "from selenium.webdriver.support import expected_conditions as EC\n",
    "\n",
    "# other\n",
    "import pandas as pd\n",
    "import time\n",
    "\n",
    "# credentials\n",
    "email = 'joseph.barbierdarnal@gmail.com'\n",
    "with open('../credentials.txt', 'r') as file:\n",
    "    password = file.read()"
   ]
  },
  {
   "cell_type": "code",
   "execution_count": 5,
   "metadata": {
    "tags": []
   },
   "outputs": [],
   "source": [
    "scraper = Scraper()\n",
    "scraper.load_page(\"https://www.linkedin.com/\")\n",
    "scraper.accept_cookies()\n",
    "scraper.login(email, password)"
   ]
  },
  {
   "cell_type": "code",
   "execution_count": 6,
   "metadata": {},
   "outputs": [],
   "source": [
    "scraper.load_page(\n",
    "    \"https://www.linkedin.com/jobs/collections/recommended/\",\n",
    "    try_quitting_first=False\n",
    ")\n",
    "scraper.close_message()\n",
    "\n",
    "scraper.enter_keywords('data science')\n",
    "scraper.enter_location('European Economic Area')\n",
    "scraper.press_enter_and_scroll()\n",
    "\n",
    "scraper.scrap_jobs(driver)"
   ]
  }
 ],
 "metadata": {
  "kernelspec": {
   "display_name": "Python 3 (ipykernel)",
   "language": "python",
   "name": "python3"
  },
  "language_info": {
   "codemirror_mode": {
    "name": "ipython",
    "version": 3
   },
   "file_extension": ".py",
   "mimetype": "text/x-python",
   "name": "python",
   "nbconvert_exporter": "python",
   "pygments_lexer": "ipython3",
   "version": "3.9.13"
  }
 },
 "nbformat": 4,
 "nbformat_minor": 4
}
