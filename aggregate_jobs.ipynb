{
 "cells": [
  {
   "cell_type": "code",
   "execution_count": 3,
   "id": "c8142e0e-5bda-4f34-a02e-a7f74325b3a6",
   "metadata": {
    "tags": []
   },
   "outputs": [],
   "source": [
    "import pandas as pd\n",
    "\n",
    "all_jobs = pd.DataFrame()\n",
    "paths = ['linkedin.csv', 'hellowork.csv', 'jobteaser.csv']#, 'welcometothejungle.csv']\n",
    "for path in paths:\n",
    "    jobs_data = pd.read_csv(f'www/{path}')\n",
    "    all_jobs = pd.concat([all_jobs, jobs_data], axis=0)\n",
    "\n",
    "all_jobs.to_csv('www/all_jobs.csv', index=False)"
   ]
  },
  {
   "cell_type": "code",
   "execution_count": 79,
   "id": "08f05f44",
   "metadata": {},
   "outputs": [
    {
     "name": "stdout",
     "output_type": "stream",
     "text": [
      "Location: Tubize, Belgium\n",
      "\n",
      "Thales people architect solutions at the heart of the defence-security continuum. Interoperable and secure information and telecommunications systems for defence, security, and civil operators, are based upon innovative use of radiocommunications, networks, and cybersecurity. We are ground breaking new digital technologies such as 4G/5G mobile communications, cryptography, cloud computing and big data for use in physical protection systems, and critical information systems.\n",
      "\n",
      "Thales Belgium SA, Belgium competence center of Thales, is a company located on 2 sites, one in Tubize (near Brussels) and the other one in Herstal (near Liège). Thales Belgium, which employs more than 280 collaborators, is specialized in the design, development and supply of critical information systems for customers in the sectors of Defense, Security (including Cyber) and Aerospace.\n",
      "\n",
      "Subject:\n",
      "\n",
      "Investigation and modeling of ultra high power RF solid state switches\n",
      "\n",
      "Profile:\n",
      "\n",
      "• You are student in Engineering, Computer Science or any other relevant field\n",
      "• You have significant experience in: Radio Frequency, Telecommunications, Analogue Electronics, Digital Electronics\n",
      "• You think of yourself as a true team-player, though you also demonstrate a high level of autonomy\n",
      "• You are very rigorous and analytical, examining logically the steps taken and the outcome to make corrections and produce better results\n",
      "• You have a proactive \"can-do\" mentality and prove to be decision oriented\n",
      "• You want to delight the customer with effective and compliant solutions\n",
      "\n",
      "At Thales we provide CAREERS and not only jobs. With Thales employing 80,000 employees in 68 countries our mobility policy enables thousands of employees each year to develop their careers at home and abroad, in their existing areas of expertise or by branching out into new fields. Together we believe that embracing flexibility is a smarter way of working. Great journeys start here, apply now!\n",
      "\n",
      "Interested?\n",
      "Apply now! Click on the button below to upload your profile and show your interest.\n",
      "\n",
      "Diversity Statement\n",
      "We actively support a working pattern that suits your lifestyle and helps you reach your ambitions. That means that equal opportunities, inclusion and an informal culture are integral to our success. It also means that your well-being and happiness matter to us! That's why we offer you the flexibility to do what's important to you; whether that's part time hours, job sharing, remote working, or the ability to flex your start and finish times.\n"
     ]
    }
   ],
   "source": [
    "df = pd.read_csv('www/jobteaser.csv')\n",
    "#df.columns = ['Url', 'Title', 'Company', 'Contract', 'Duration', 'Location', 'Date', 'Description', 'Site', 'Sector', 'Keyword']\n",
    "df['Salary'] = 'N/A'\n",
    "#df.to_csv('www/jobteaser.csv', index=False)\n",
    "import random\n",
    "i = random.randint(0, len(df))\n",
    "if 'data' not in df.loc[i,'Description'].lower() or 'données' not in df.loc[i,'Description'].lower():\n",
    "    print(df.loc[i,'Description'])\n",
    "else:\n",
    "    print('youuuhrigoog')"
   ]
  },
  {
   "cell_type": "code",
   "execution_count": null,
   "id": "3f06d726",
   "metadata": {},
   "outputs": [],
   "source": []
  }
 ],
 "metadata": {
  "kernelspec": {
   "display_name": "Python 3 (ipykernel)",
   "language": "python",
   "name": "python3"
  },
  "language_info": {
   "codemirror_mode": {
    "name": "ipython",
    "version": 3
   },
   "file_extension": ".py",
   "mimetype": "text/x-python",
   "name": "python",
   "nbconvert_exporter": "python",
   "pygments_lexer": "ipython3",
   "version": "3.9.6"
  }
 },
 "nbformat": 4,
 "nbformat_minor": 5
}
