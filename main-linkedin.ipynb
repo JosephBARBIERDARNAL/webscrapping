{
 "cells": [
  {
   "cell_type": "code",
   "execution_count": 10,
   "metadata": {
    "tags": []
   },
   "outputs": [],
   "source": [
    "# Projet Webscrapping\n",
    "# Object : get job offers from LinkedIn\n",
    "# Author : Barbier Joseph\n",
    "\n",
    "from src.src_linkedin import LinkedIn\n",
    "import pandas as pd"
   ]
  },
  {
   "cell_type": "code",
   "execution_count": 13,
   "metadata": {},
   "outputs": [],
   "source": [
    "# HOW TO GET CREDENTIALS\n",
    "# 1 - Create a text file named credentials.txt in the root folder\n",
    "# 2 - Write your LinkedIn email in the first line\n",
    "# 3 - Write your LinkedIn password in the second line\n",
    "# 4 - Save the file\n",
    "\n",
    "# open text file\n",
    "with open('credentials.txt', 'r') as file:\n",
    "    credentials  = file.read()\n",
    "\n",
    "    # split mail and password\n",
    "    credentials = credentials.split('\\n')\n",
    "    mail = credentials[0]\n",
    "    password = credentials[1]"
   ]
  },
  {
   "cell_type": "code",
   "execution_count": 2,
   "metadata": {
    "tags": []
   },
   "outputs": [],
   "source": [
    "scraper = LinkedIn()\n",
    "scraper.load_page(\"https://www.linkedin.com/\")\n",
    "scraper.sleep(5)\n",
    "scraper.accept_cookies()\n",
    "scraper.login(mail, password)"
   ]
  },
  {
   "cell_type": "markdown",
   "metadata": {},
   "source": [
    "### some captcha can occurs here sometimes ):"
   ]
  },
  {
   "cell_type": "code",
   "execution_count": 3,
   "metadata": {
    "tags": []
   },
   "outputs": [],
   "source": [
    "scraper.load_page(\"https://www.linkedin.com/jobs/collections/recommended/\")\n",
    "scraper.close_message()"
   ]
  },
  {
   "cell_type": "code",
   "execution_count": 4,
   "metadata": {
    "tags": []
   },
   "outputs": [
    {
     "name": "stdout",
     "output_type": "stream",
     "text": [
      "Scrapping over: 282 jobs found.\n",
      "Scrapping over: 347 jobs found.\n",
      "Scrapping over: 252 jobs found.\n",
      "Scrapping over: 389 jobs found.\n"
     ]
    }
   ],
   "source": [
    "us_jobs = scraper.get_all_jobs(location='United States')\n",
    "southasia_jobs = scraper.get_all_jobs(location='South Asia')\n",
    "eastasia_jobs = scraper.get_all_jobs(location='East Asia')\n",
    "europe_jobs = scraper.get_all_jobs(location='European Economic Area')"
   ]
  },
  {
   "cell_type": "code",
   "execution_count": 5,
   "metadata": {},
   "outputs": [],
   "source": [
    "# concat all job dataframes and save to csv\n",
    "linkedin_jobs = pd.concat([us_jobs, southasia_jobs, eastasia_jobs, europe_jobs])\n",
    "linkedin_jobs['website'] = 'LinkedIn'\n",
    "linkedin_jobs.to_csv('www/linkedin.csv', index=False)"
   ]
  }
 ],
 "metadata": {
  "kernelspec": {
   "display_name": "Python 3 (ipykernel)",
   "language": "python",
   "name": "python3"
  },
  "language_info": {
   "codemirror_mode": {
    "name": "ipython",
    "version": 3
   },
   "file_extension": ".py",
   "mimetype": "text/x-python",
   "name": "python",
   "nbconvert_exporter": "python",
   "pygments_lexer": "ipython3",
   "version": "3.10.5"
  }
 },
 "nbformat": 4,
 "nbformat_minor": 4
}
